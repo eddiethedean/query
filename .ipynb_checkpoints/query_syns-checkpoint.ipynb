{
 "cells": [
  {
   "cell_type": "code",
   "execution_count": 1,
   "id": "f15a5989",
   "metadata": {},
   "outputs": [],
   "source": [
    "from luqum.parser import parser"
   ]
  },
  {
   "cell_type": "code",
   "execution_count": 2,
   "id": "986eea3c",
   "metadata": {},
   "outputs": [],
   "source": [
    "start_query = 'usa AND uav'\n",
    "end_query = '(usa OR \"United States\" OR US OR \"United States of America\") AND (drone OR UAV)'"
   ]
  },
  {
   "cell_type": "code",
   "execution_count": 3,
   "id": "a5ca0b50",
   "metadata": {},
   "outputs": [
    {
     "data": {
      "text/plain": [
       "'(usa OR \"United States\" OR US OR \"United States of America\") AND (drone OR UAV)'"
      ]
     },
     "execution_count": 3,
     "metadata": {},
     "output_type": "execute_result"
    }
   ],
   "source": [
    "end_tree = parser.parse(end_query)\n",
    "str(end_tree)"
   ]
  },
  {
   "cell_type": "code",
   "execution_count": 4,
   "id": "6f1607ab",
   "metadata": {},
   "outputs": [
    {
     "data": {
      "text/plain": [
       "AndOperation(Group(OrOperation(Word('usa'), Phrase('\"United States\"'), Word('US'), Phrase('\"United States of America\"'))), Group(OrOperation(Word('drone'), Word('UAV'))))"
      ]
     },
     "execution_count": 4,
     "metadata": {},
     "output_type": "execute_result"
    }
   ],
   "source": [
    "end_tree"
   ]
  },
  {
   "cell_type": "code",
   "execution_count": 5,
   "id": "3ca3ca24",
   "metadata": {},
   "outputs": [
    {
     "data": {
      "text/plain": [
       "'usa AND uav'"
      ]
     },
     "execution_count": 5,
     "metadata": {},
     "output_type": "execute_result"
    }
   ],
   "source": [
    "start_tree = parser.parse(start_query)\n",
    "str(start_tree)"
   ]
  },
  {
   "cell_type": "code",
   "execution_count": 6,
   "id": "fb921dab",
   "metadata": {},
   "outputs": [
    {
     "data": {
      "text/plain": [
       "AndOperation(Word('usa'), Word('uav'))"
      ]
     },
     "execution_count": 6,
     "metadata": {},
     "output_type": "execute_result"
    }
   ],
   "source": [
    "start_tree"
   ]
  },
  {
   "cell_type": "code",
   "execution_count": 7,
   "id": "bc309350",
   "metadata": {},
   "outputs": [
    {
     "data": {
      "text/plain": [
       "{'usa': ['United States', 'US', 'United States of America'], 'uav': ['drone']}"
      ]
     },
     "execution_count": 7,
     "metadata": {},
     "output_type": "execute_result"
    }
   ],
   "source": [
    "syns = {'usa': ['United States', 'US', 'United States of America'],\n",
    "        'uav': ['drone']}\n",
    "syns"
   ]
  },
  {
   "cell_type": "code",
   "execution_count": 8,
   "id": "65b8d021",
   "metadata": {},
   "outputs": [
    {
     "name": "stdout",
     "output_type": "stream",
     "text": [
      "(usa OR \"United States\" OR US OR \"United States of America\")\n",
      "(drone OR UAV)\n"
     ]
    }
   ],
   "source": [
    "for word in end_tree.children:\n",
    "    print(word)"
   ]
  },
  {
   "cell_type": "code",
   "execution_count": 9,
   "id": "4fde28ea",
   "metadata": {},
   "outputs": [],
   "source": [
    "from luqum.visitor import TreeTransformer\n",
    "from luqum.tree import Item, Word, Phrase, OrOperation, Group, AndOperation"
   ]
  },
  {
   "cell_type": "code",
   "execution_count": 10,
   "id": "16541cbb",
   "metadata": {},
   "outputs": [],
   "source": [
    "def get_word_node(word: str):\n",
    "    if ' ' in word:\n",
    "        return Phrase(f'\"{word}\"')\n",
    "    else:\n",
    "        return Word(word)"
   ]
  },
  {
   "cell_type": "code",
   "execution_count": 18,
   "id": "a21da577",
   "metadata": {},
   "outputs": [],
   "source": [
    "from luqum.auto_head_tail import auto_head_tail, AutoHeadTail"
   ]
  },
  {
   "cell_type": "code",
   "execution_count": 24,
   "id": "b42fbf4f",
   "metadata": {},
   "outputs": [
    {
     "name": "stdout",
     "output_type": "stream",
     "text": [
      "usa AND uav\n",
      "(\"United States\"ORUSOR\"United States of America\"ORusa)AND(droneORuav)\n",
      "(\"United States\" OR US OR \"United States of America\" OR usa) AND (drone OR uav)\n"
     ]
    }
   ],
   "source": [
    "class MyTransformer(TreeTransformer):\n",
    "        \n",
    "    def visit_word(self, node: Item, context):\n",
    "        if type(node) in [Word, Phrase]:\n",
    "            word = node.value\n",
    "            new_nodes = []\n",
    "            if word in syns:\n",
    "                for s in syns[word]:\n",
    "                    new_word_node = get_word_node(s)\n",
    "                    new_nodes.append(new_word_node)\n",
    "                new_nodes.append(get_word_node(word))\n",
    "                yield Group(OrOperation(*new_nodes))\n",
    "            else:\n",
    "                yield from self.generic_visit(node, context)\n",
    "        else:\n",
    "            yield from self.generic_visit(node, context)\n",
    "            \n",
    "\n",
    "print(str(start_tree))\n",
    "transformer = MyTransformer()\n",
    "new_tree = transformer.visit(start_tree)\n",
    "print(str(new_tree))\n",
    "new_tree = auto_head_tail(new_tree)\n",
    "print(str(new_tree))"
   ]
  },
  {
   "cell_type": "code",
   "execution_count": 12,
   "id": "7f5c8857",
   "metadata": {},
   "outputs": [
    {
     "data": {
      "text/plain": [
       "'(usaOR\"United States\"ORUSOR\"United States of America\")AND(droneORUAV)'"
      ]
     },
     "execution_count": 12,
     "metadata": {},
     "output_type": "execute_result"
    }
   ],
   "source": [
    "q = AndOperation(Group(OrOperation(Word('usa'), Phrase('\"United States\"'), Word('US'), Phrase('\"United States of America\"'))), Group(OrOperation(Word('drone'), Word('UAV'))))\n",
    "str(q)"
   ]
  },
  {
   "cell_type": "code",
   "execution_count": 15,
   "id": "c20ec792",
   "metadata": {},
   "outputs": [
    {
     "data": {
      "text/plain": [
       "'(usa OR \"United States\" OR US OR \"United States of America\") AND (drone OR UAV)'"
      ]
     },
     "execution_count": 15,
     "metadata": {},
     "output_type": "execute_result"
    }
   ],
   "source": [
    "str(auto_head_tail(q))"
   ]
  },
  {
   "cell_type": "code",
   "execution_count": null,
   "id": "b739a54e",
   "metadata": {},
   "outputs": [],
   "source": [
    "from luqum.pretty import prettify\n",
    "print(prettify(q))"
   ]
  },
  {
   "cell_type": "code",
   "execution_count": null,
   "id": "65135964",
   "metadata": {},
   "outputs": [],
   "source": []
  }
 ],
 "metadata": {
  "kernelspec": {
   "display_name": "Python 3 (ipykernel)",
   "language": "python",
   "name": "python3"
  },
  "language_info": {
   "codemirror_mode": {
    "name": "ipython",
    "version": 3
   },
   "file_extension": ".py",
   "mimetype": "text/x-python",
   "name": "python",
   "nbconvert_exporter": "python",
   "pygments_lexer": "ipython3",
   "version": "3.11.3"
  }
 },
 "nbformat": 4,
 "nbformat_minor": 5
}
